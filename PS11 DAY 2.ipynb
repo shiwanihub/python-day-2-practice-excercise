{
 "cells": [
  {
   "cell_type": "code",
   "execution_count": 1,
   "id": "ffd31da4-648b-4dda-9e58-b17c0305acd5",
   "metadata": {},
   "outputs": [
    {
     "name": "stdout",
     "output_type": "stream",
     "text": [
      "Integers in the range 200 to 300 with even digit sums:\n",
      "[200, 202, 204, 206, 208, 211, 213, 215, 217, 219, 220, 222, 224, 226, 228, 231, 233, 235, 237, 239, 240, 242, 244, 246, 248, 251, 253, 255, 257, 259, 260, 262, 264, 266, 268, 271, 273, 275, 277, 279, 280, 282, 284, 286, 288, 291, 293, 295, 297, 299]\n"
     ]
    }
   ],
   "source": [
    "def sum_of_digits_is_even(num):\n",
    "    \n",
    "    digit_sum = sum(int(digit) for digit in str(num))\n",
    "    \n",
    "    \n",
    "    return digit_sum % 2 == 0\n",
    "\n",
    "def integers_with_even_digit_sum(start, end):\n",
    "    result = []\n",
    "    for num in range(start, end + 1):\n",
    "        if sum_of_digits_is_even(num):\n",
    "            result.append(num)\n",
    "    return result\n",
    "\n",
    "\n",
    "start_range = 200\n",
    "end_range = 300\n",
    "even_digit_sum_numbers = integers_with_even_digit_sum(start_range, end_range)\n",
    "\n",
    "print(\"Integers in the range\", start_range, \"to\", end_range, \"with even digit sums:\")\n",
    "print(even_digit_sum_numbers)\n"
   ]
  },
  {
   "cell_type": "code",
   "execution_count": null,
   "id": "16dde7cd-de0f-4cdd-be6d-40b9c7cd9f7f",
   "metadata": {},
   "outputs": [],
   "source": []
  }
 ],
 "metadata": {
  "kernelspec": {
   "display_name": "Python 3 (ipykernel)",
   "language": "python",
   "name": "python3"
  },
  "language_info": {
   "codemirror_mode": {
    "name": "ipython",
    "version": 3
   },
   "file_extension": ".py",
   "mimetype": "text/x-python",
   "name": "python",
   "nbconvert_exporter": "python",
   "pygments_lexer": "ipython3",
   "version": "3.11.5"
  }
 },
 "nbformat": 4,
 "nbformat_minor": 5
}
