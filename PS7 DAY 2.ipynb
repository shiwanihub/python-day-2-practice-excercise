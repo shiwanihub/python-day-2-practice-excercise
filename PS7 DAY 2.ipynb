{
 "cells": [
  {
   "cell_type": "code",
   "execution_count": 3,
   "id": "c6979477-08f2-4731-9743-1d79b54115ee",
   "metadata": {},
   "outputs": [],
   "source": [
    "def count_vowels(string):\n",
    "    \n",
    "    string = string.lower()\n",
    "    \n",
    "\n",
    "    vowels = \"aeiou\"\n",
    "    \n",
    "\n",
    "    vowel_count = 0\n",
    "    \n",
    "    \n",
    "    for char in string:\n",
    "        if char in vowels:\n",
    "            vowel_count += 1\n",
    "    \n",
    "    return vowel_count\n"
   ]
  },
  {
   "cell_type": "code",
   "execution_count": 4,
   "id": "6dc8c484-0ede-446f-b8b8-ec26dbfc2220",
   "metadata": {},
   "outputs": [
    {
     "name": "stdout",
     "output_type": "stream",
     "text": [
      "Number of vowels: 3\n"
     ]
    }
   ],
   "source": [
    "text = \"Hello, World!\"\n",
    "vowel_count = count_vowels(text)\n",
    "print(\"Number of vowels:\", vowel_count)\n"
   ]
  },
  {
   "cell_type": "code",
   "execution_count": null,
   "id": "af24d2d4-9045-4f91-b2e4-0de37982b939",
   "metadata": {},
   "outputs": [],
   "source": []
  }
 ],
 "metadata": {
  "kernelspec": {
   "display_name": "Python 3 (ipykernel)",
   "language": "python",
   "name": "python3"
  },
  "language_info": {
   "codemirror_mode": {
    "name": "ipython",
    "version": 3
   },
   "file_extension": ".py",
   "mimetype": "text/x-python",
   "name": "python",
   "nbconvert_exporter": "python",
   "pygments_lexer": "ipython3",
   "version": "3.11.5"
  }
 },
 "nbformat": 4,
 "nbformat_minor": 5
}
