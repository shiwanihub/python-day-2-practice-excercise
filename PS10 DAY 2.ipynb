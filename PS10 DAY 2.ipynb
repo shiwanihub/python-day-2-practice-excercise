{
 "cells": [
  {
   "cell_type": "code",
   "execution_count": 1,
   "id": "bee61f3f-7725-473e-b94f-ee234176edfb",
   "metadata": {},
   "outputs": [
    {
     "name": "stdout",
     "output_type": "stream",
     "text": [
      "Original number: 12345\n",
      "Reversed number: 54321\n"
     ]
    }
   ],
   "source": [
    "def reverse_integer(n):\n",
    "    # Check if the number is negative\n",
    "    is_negative = False\n",
    "    if n < 0:\n",
    "        is_negative = True\n",
    "        n = abs(n)\n",
    "\n",
    "    \n",
    "    str_num = str(n)\n",
    "\n",
    "    # Reverse the string\n",
    "    reversed_str = str_num[::-1]\n",
    "\n",
    "\n",
    "    reversed_int = int(reversed_str)\n",
    "\n",
    "\n",
    "    if is_negative:\n",
    "        reversed_int = -reversed_int\n",
    "\n",
    "    return reversed_int\n",
    "\n",
    "number = 12345\n",
    "reversed_number = reverse_integer(number)\n",
    "print(\"Original number:\", number)\n",
    "print(\"Reversed number:\", reversed_number)\n"
   ]
  },
  {
   "cell_type": "code",
   "execution_count": null,
   "id": "656c8daa-1f24-4599-96d7-b8750e7d731a",
   "metadata": {},
   "outputs": [],
   "source": []
  },
  {
   "cell_type": "code",
   "execution_count": null,
   "id": "bed2258f-e8f5-466b-b5be-180a19ca02bb",
   "metadata": {},
   "outputs": [],
   "source": []
  },
  {
   "cell_type": "code",
   "execution_count": null,
   "id": "06eaafb6-5efd-40b1-b94d-30a42c0984d2",
   "metadata": {},
   "outputs": [],
   "source": []
  }
 ],
 "metadata": {
  "kernelspec": {
   "display_name": "Python 3 (ipykernel)",
   "language": "python",
   "name": "python3"
  },
  "language_info": {
   "codemirror_mode": {
    "name": "ipython",
    "version": 3
   },
   "file_extension": ".py",
   "mimetype": "text/x-python",
   "name": "python",
   "nbconvert_exporter": "python",
   "pygments_lexer": "ipython3",
   "version": "3.11.5"
  }
 },
 "nbformat": 4,
 "nbformat_minor": 5
}
