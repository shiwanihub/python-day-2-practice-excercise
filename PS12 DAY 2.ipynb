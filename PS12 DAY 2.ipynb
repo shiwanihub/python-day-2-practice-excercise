{
 "cells": [
  {
   "cell_type": "code",
   "execution_count": 1,
   "id": "c7b8d1d4-9235-47dd-a349-06291d0351fe",
   "metadata": {},
   "outputs": [
    {
     "name": "stdout",
     "output_type": "stream",
     "text": [
      "Number of digits: 5\n",
      "Sum of digits: 15\n"
     ]
    }
   ],
   "source": [
    "def count_digits_and_sum(n):\n",
    "\n",
    "    num_of_digits = 0\n",
    "    digit_sum = 0\n",
    "\n",
    "    \n",
    "    n = abs(n)\n",
    "\n",
    "\n",
    "    while n > 0:\n",
    "        digit = n % 10  \n",
    "        digit_sum += digit  \n",
    "        num_of_digits += 1  \n",
    "        n //= 10  \n",
    "\n",
    "    return num_of_digits, digit_sum\n",
    "\n",
    "\n",
    "number = 12345\n",
    "num_digits, sum_of_digits = count_digits_and_sum(number)\n",
    "print(\"Number of digits:\", num_digits)\n",
    "print(\"Sum of digits:\", sum_of_digits)\n"
   ]
  },
  {
   "cell_type": "code",
   "execution_count": null,
   "id": "a0d7f448-0acd-4666-8b3b-25308f4bf8af",
   "metadata": {},
   "outputs": [],
   "source": []
  }
 ],
 "metadata": {
  "kernelspec": {
   "display_name": "Python 3 (ipykernel)",
   "language": "python",
   "name": "python3"
  },
  "language_info": {
   "codemirror_mode": {
    "name": "ipython",
    "version": 3
   },
   "file_extension": ".py",
   "mimetype": "text/x-python",
   "name": "python",
   "nbconvert_exporter": "python",
   "pygments_lexer": "ipython3",
   "version": "3.11.5"
  }
 },
 "nbformat": 4,
 "nbformat_minor": 5
}
