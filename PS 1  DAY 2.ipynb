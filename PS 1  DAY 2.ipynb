{
 "cells": [
  {
   "cell_type": "code",
   "execution_count": 3,
   "id": "493958f9-1e27-4415-b469-1017a063ba33",
   "metadata": {},
   "outputs": [],
   "source": [
    "def even_odd_separator(numbers):\n",
    "    even_numbers = []\n",
    "    odd_numbers = []\n",
    "\n",
    "    for number in numbers:\n",
    "        if number % 2 == 0:\n",
    "            even_numbers.append(number)\n",
    "        else:\n",
    "            odd_numbers.append(number)\n",
    "\n",
    "    return even_numbers, odd_numbers\n"
   ]
  },
  {
   "cell_type": "code",
   "execution_count": 4,
   "id": "bbb11aea-698b-4104-a804-7974c2772317",
   "metadata": {},
   "outputs": [
    {
     "name": "stdout",
     "output_type": "stream",
     "text": [
      "Even numbers: [2, 4, 6]\n",
      "Odd numbers: [1, 3, 5]\n"
     ]
    }
   ],
   "source": [
    "numbers = [1, 2, 3, 4, 5, 6]\n",
    "even, odd = even_odd_separator(numbers)\n",
    "print(\"Even numbers:\", even)\n",
    "print(\"Odd numbers:\", odd)\n"
   ]
  },
  {
   "cell_type": "code",
   "execution_count": null,
   "id": "c8898c36-72c5-4958-b3b8-8c7ab404c7e5",
   "metadata": {},
   "outputs": [],
   "source": []
  }
 ],
 "metadata": {
  "kernelspec": {
   "display_name": "Python 3 (ipykernel)",
   "language": "python",
   "name": "python3"
  },
  "language_info": {
   "codemirror_mode": {
    "name": "ipython",
    "version": 3
   },
   "file_extension": ".py",
   "mimetype": "text/x-python",
   "name": "python",
   "nbconvert_exporter": "python",
   "pygments_lexer": "ipython3",
   "version": "3.11.5"
  }
 },
 "nbformat": 4,
 "nbformat_minor": 5
}
