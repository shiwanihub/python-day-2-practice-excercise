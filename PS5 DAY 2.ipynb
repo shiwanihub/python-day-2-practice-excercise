{
 "cells": [
  {
   "cell_type": "code",
   "execution_count": 1,
   "id": "f7850721-fffb-4e6d-80e2-56c1413662a4",
   "metadata": {},
   "outputs": [
    {
     "name": "stdout",
     "output_type": "stream",
     "text": [
      "The first 5 prime numbers from the list are: [2, 3, 5, 7, 11]\n"
     ]
    }
   ],
   "source": [
    "def is_prime(num):\n",
    "    if num <= 1:\n",
    "        return False\n",
    "    if num == 2:\n",
    "        return True\n",
    "    if num % 2 == 0:\n",
    "        return False\n",
    "\n",
    "    for i in range(3, int(num**0.5) + 1, 2):\n",
    "        if num % i == 0:\n",
    "            return False\n",
    "\n",
    "    return True\n",
    "\n",
    "def find_first_n_primes(numbers, n):\n",
    "    prime_numbers = []\n",
    "    for num in numbers:\n",
    "        if is_prime(num):\n",
    "            prime_numbers.append(num)\n",
    "            if len(prime_numbers) == n:\n",
    "                break\n",
    "\n",
    "    return prime_numbers\n",
    "\n",
    "given_numbers = [2, 3, 5, 7, 9, 11, 13, 17, 19]\n",
    "n = 5  \n",
    "\n",
    "first_n_primes = find_first_n_primes(given_numbers, n)\n",
    "print(f\"The first {n} prime numbers from the list are:\", first_n_primes)\n"
   ]
  },
  {
   "cell_type": "code",
   "execution_count": null,
   "id": "8eba02a5-2f99-4e6f-a520-c3cfe0f257be",
   "metadata": {},
   "outputs": [],
   "source": []
  }
 ],
 "metadata": {
  "kernelspec": {
   "display_name": "Python 3 (ipykernel)",
   "language": "python",
   "name": "python3"
  },
  "language_info": {
   "codemirror_mode": {
    "name": "ipython",
    "version": 3
   },
   "file_extension": ".py",
   "mimetype": "text/x-python",
   "name": "python",
   "nbconvert_exporter": "python",
   "pygments_lexer": "ipython3",
   "version": "3.11.5"
  }
 },
 "nbformat": 4,
 "nbformat_minor": 5
}
