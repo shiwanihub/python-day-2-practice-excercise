{
 "cells": [
  {
   "cell_type": "code",
   "execution_count": 1,
   "id": "3e275b8a-88cb-408c-a751-34dde0c673f7",
   "metadata": {},
   "outputs": [
    {
     "name": "stdout",
     "output_type": "stream",
     "text": [
      "Fibonacci Series (first 10 numbers): [0, 1, 1, 2, 3, 5, 8, 13, 21, 34]\n"
     ]
    }
   ],
   "source": [
    "def fibonacci_recursive(n):\n",
    "    if n <= 0:\n",
    "        return []\n",
    "    elif n == 1:\n",
    "        return [0]\n",
    "    elif n == 2:\n",
    "        return [0, 1]\n",
    "    else:\n",
    "        # Generate the Fibonacci series recursively\n",
    "        fib_series = fibonacci_recursive(n - 1)\n",
    "        fib_series.append(fib_series[-1] + fib_series[-2])\n",
    "        return fib_series\n",
    "\n",
    "\n",
    "n = 10\n",
    "fibonacci_series = fibonacci_recursive(n)\n",
    "print(\"Fibonacci Series (first\", n, \"numbers):\", fibonacci_series)\n"
   ]
  },
  {
   "cell_type": "code",
   "execution_count": null,
   "id": "fa6c60fe-5410-42e6-af3b-14e6de2f71b5",
   "metadata": {},
   "outputs": [],
   "source": []
  }
 ],
 "metadata": {
  "kernelspec": {
   "display_name": "Python 3 (ipykernel)",
   "language": "python",
   "name": "python3"
  },
  "language_info": {
   "codemirror_mode": {
    "name": "ipython",
    "version": 3
   },
   "file_extension": ".py",
   "mimetype": "text/x-python",
   "name": "python",
   "nbconvert_exporter": "python",
   "pygments_lexer": "ipython3",
   "version": "3.11.5"
  }
 },
 "nbformat": 4,
 "nbformat_minor": 5
}
