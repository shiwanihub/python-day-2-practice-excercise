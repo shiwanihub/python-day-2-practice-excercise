{
 "cells": [
  {
   "cell_type": "code",
   "execution_count": 1,
   "id": "e91a6d4f-dde3-4db5-b837-727496da5ec0",
   "metadata": {},
   "outputs": [
    {
     "name": "stdout",
     "output_type": "stream",
     "text": [
      "Sum of multiples of 3 or 5 below 500: 57918\n"
     ]
    }
   ],
   "source": [
    "\n",
    "total_sum = 0\n",
    "\n",
    "for number in range(1, 500):\n",
    "    # Check if the number is a multiple of 3 or 5\n",
    "    if number % 3 == 0 or number % 5 == 0:\n",
    "        total_sum += number\n",
    "\n",
    "print(\"Sum of multiples of 3 or 5 below 500:\", total_sum)\n"
   ]
  }
 ],
 "metadata": {
  "kernelspec": {
   "display_name": "Python 3 (ipykernel)",
   "language": "python",
   "name": "python3"
  },
  "language_info": {
   "codemirror_mode": {
    "name": "ipython",
    "version": 3
   },
   "file_extension": ".py",
   "mimetype": "text/x-python",
   "name": "python",
   "nbconvert_exporter": "python",
   "pygments_lexer": "ipython3",
   "version": "3.11.5"
  }
 },
 "nbformat": 4,
 "nbformat_minor": 5
}
