{
 "cells": [
  {
   "cell_type": "code",
   "execution_count": 2,
   "id": "64659050-4bc5-4da8-9a7c-eafef0aed114",
   "metadata": {},
   "outputs": [
    {
     "name": "stdin",
     "output_type": "stream",
     "text": [
      "Enter an integer:  2\n",
      "Enter an integer:  8\n",
      "Enter an integer:  7\n",
      "Enter an integer:  3\n",
      "Enter an integer:  1\n",
      "Enter an integer:  6\n",
      "Enter an integer:  9\n",
      "Enter an integer:  4\n"
     ]
    },
    {
     "name": "stdout",
     "output_type": "stream",
     "text": [
      "Number of even integers: 4\n"
     ]
    }
   ],
   "source": [
    "\n",
    "even_count = 0\n",
    "\n",
    "for i in range(8):\n",
    "    user_input = int(input(\"Enter an integer: \"))\n",
    "    \n",
    "    if user_input % 2 == 0:\n",
    "        even_count += 1\n",
    "\n",
    "print(\"Number of even integers:\", even_count)\n"
   ]
  },
  {
   "cell_type": "code",
   "execution_count": null,
   "id": "7107a5ef-e67b-4385-9740-24e5baf7c5d2",
   "metadata": {},
   "outputs": [],
   "source": []
  }
 ],
 "metadata": {
  "kernelspec": {
   "display_name": "Python 3 (ipykernel)",
   "language": "python",
   "name": "python3"
  },
  "language_info": {
   "codemirror_mode": {
    "name": "ipython",
    "version": 3
   },
   "file_extension": ".py",
   "mimetype": "text/x-python",
   "name": "python",
   "nbconvert_exporter": "python",
   "pygments_lexer": "ipython3",
   "version": "3.11.5"
  }
 },
 "nbformat": 4,
 "nbformat_minor": 5
}
