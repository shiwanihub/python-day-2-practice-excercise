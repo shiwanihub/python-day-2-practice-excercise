{
 "cells": [
  {
   "cell_type": "code",
   "execution_count": 8,
   "id": "a6bb7aba-1d26-4607-9660-ba655de9b660",
   "metadata": {},
   "outputs": [],
   "source": [
    "def is_sorted(lst):\n",
    "    return all(lst[i] <= lst[i+1] for i in range(len(lst)-1))\n"
   ]
  },
  {
   "cell_type": "code",
   "execution_count": 9,
   "id": "3c715885-3ca2-4077-999d-6744b2d97c46",
   "metadata": {},
   "outputs": [],
   "source": [
    "def has_duplicates(lst):\n",
    "    seen = set()\n",
    "    for item in lst:\n",
    "        if item in seen:\n",
    "            return True\n",
    "        seen.add(item)\n",
    "    return False\n"
   ]
  },
  {
   "cell_type": "code",
   "execution_count": null,
   "id": "33f8fb69-5033-4c86-bb92-c04b5bb8a231",
   "metadata": {},
   "outputs": [],
   "source": []
  },
  {
   "cell_type": "code",
   "execution_count": null,
   "id": "8ef494ed-9828-4d32-8cba-d5fa9c4b6d08",
   "metadata": {},
   "outputs": [],
   "source": []
  }
 ],
 "metadata": {
  "kernelspec": {
   "display_name": "Python 3 (ipykernel)",
   "language": "python",
   "name": "python3"
  },
  "language_info": {
   "codemirror_mode": {
    "name": "ipython",
    "version": 3
   },
   "file_extension": ".py",
   "mimetype": "text/x-python",
   "name": "python",
   "nbconvert_exporter": "python",
   "pygments_lexer": "ipython3",
   "version": "3.11.5"
  }
 },
 "nbformat": 4,
 "nbformat_minor": 5
}
