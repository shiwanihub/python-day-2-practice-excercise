{
 "cells": [
  {
   "cell_type": "code",
   "execution_count": 1,
   "id": "92dd800a-ac86-401f-b140-bea78577c96d",
   "metadata": {},
   "outputs": [],
   "source": [
    "def nested_sum(lst):\n",
    "    total = 0\n",
    "    for element in lst:\n",
    "        if isinstance(element, list):\n",
    "            total += nested_sum(element)\n",
    "        else:\n",
    "            total += element\n",
    "    return total\n"
   ]
  },
  {
   "cell_type": "code",
   "execution_count": 2,
   "id": "23c39a47-57b2-4e82-8208-c451a769ba5c",
   "metadata": {},
   "outputs": [],
   "source": [
    "def cumsum(numbers):\n",
    "    cumulative_sum = []\n",
    "    total = 0\n",
    "    for num in numbers:\n",
    "        total += num\n",
    "        cumulative_sum.append(total)\n",
    "    return cumulative_sum\n"
   ]
  },
  {
   "cell_type": "code",
   "execution_count": 3,
   "id": "56d50be4-e51c-48d9-96a7-14d2c3e01a2d",
   "metadata": {},
   "outputs": [
    {
     "name": "stdout",
     "output_type": "stream",
     "text": [
      "Sum of all elements: 28\n",
      "Cumulative sums: [1, 3, 6, 10, 15]\n"
     ]
    }
   ],
   "source": [
    "# Example for nested_sum:\n",
    "nested_list = [1, 2, [3, 4], [5, [6, 7]]]\n",
    "result = nested_sum(nested_list)\n",
    "print(\"Sum of all elements:\", result)\n",
    "\n",
    "# Example for cumsum:\n",
    "numbers = [1, 2, 3, 4, 5]\n",
    "cumulative_sums = cumsum(numbers)\n",
    "print(\"Cumulative sums:\", cumulative_sums)\n"
   ]
  }
 ],
 "metadata": {
  "kernelspec": {
   "display_name": "Python 3 (ipykernel)",
   "language": "python",
   "name": "python3"
  },
  "language_info": {
   "codemirror_mode": {
    "name": "ipython",
    "version": 3
   },
   "file_extension": ".py",
   "mimetype": "text/x-python",
   "name": "python",
   "nbconvert_exporter": "python",
   "pygments_lexer": "ipython3",
   "version": "3.11.5"
  }
 },
 "nbformat": 4,
 "nbformat_minor": 5
}
